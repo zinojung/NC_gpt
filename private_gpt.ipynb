{
 "cells": [
  {
   "cell_type": "code",
   "execution_count": 7,
   "metadata": {},
   "outputs": [
    {
     "name": "stderr",
     "output_type": "stream",
     "text": [
      "Using pad_token, but it is not set yet.\n",
      "Setting `pad_token_id` to `eos_token_id`:50256 for open-end generation.\n"
     ]
    },
    {
     "data": {
      "text/plain": [
       "' plant grown for its high nutrient value, and it includes a variety of insects from many kinds of plants and plants with strong nutritional value including cucumbers, lettuce, cherry tomatoes, cabbage, carrots, corn and other plants not often found in Europe, tomatoes'"
      ]
     },
     "execution_count": 7,
     "metadata": {},
     "output_type": "execute_result"
    }
   ],
   "source": [
    "from langchain.llms.huggingface_pipeline import HuggingFacePipeline\n",
    "from langchain.prompts import PromptTemplate\n",
    "\n",
    "prompt = PromptTemplate.from_template(\"A {word} is a\") \n",
    "\n",
    "llm = HuggingFacePipeline.from_model_id(\n",
    "    model_id = \"gpt2\",\n",
    "    task = \"text-generation\",\n",
    "    pipeline_kwargs = {\"max_new_tokens\": 50},\n",
    ")\n",
    "\n",
    "# llm.client.api_url = 'https://api-inference.huggingface.co/models/mistralai/Mistral-7B-Instruct-v0.1'\n",
    "\n",
    "chain = prompt | llm\n",
    "\n",
    "chain.invoke({\n",
    "    \"word\" : \"tomato\"\n",
    "})"
   ]
  },
  {
   "cell_type": "code",
   "execution_count": 4,
   "metadata": {},
   "outputs": [
    {
     "ename": "TypeError",
     "evalue": "'module' object is not callable",
     "output_type": "error",
     "traceback": [
      "\u001b[0;31m---------------------------------------------------------------------------\u001b[0m",
      "\u001b[0;31mTypeError\u001b[0m                                 Traceback (most recent call last)",
      "Cell \u001b[0;32mIn[4], line 6\u001b[0m\n\u001b[1;32m      2\u001b[0m \u001b[38;5;28;01mfrom\u001b[39;00m \u001b[38;5;21;01mlangchain\u001b[39;00m\u001b[38;5;21;01m.\u001b[39;00m\u001b[38;5;21;01mprompts\u001b[39;00m \u001b[38;5;28;01mimport\u001b[39;00m PromptTemplate\n\u001b[1;32m      4\u001b[0m prompt \u001b[38;5;241m=\u001b[39m PromptTemplate\u001b[38;5;241m.\u001b[39mfrom_template(\u001b[38;5;124m\"\u001b[39m\u001b[38;5;124mA \u001b[39m\u001b[38;5;132;01m{word}\u001b[39;00m\u001b[38;5;124m is a\u001b[39m\u001b[38;5;124m\"\u001b[39m) \n\u001b[0;32m----> 6\u001b[0m llm \u001b[38;5;241m=\u001b[39m \u001b[43mgpt4all\u001b[49m\u001b[43m(\u001b[49m\n\u001b[1;32m      7\u001b[0m \u001b[43m    \u001b[49m\u001b[43mmodel\u001b[49m\u001b[38;5;241;43m=\u001b[39;49m\u001b[38;5;124;43m\"\u001b[39;49m\u001b[38;5;124;43m/Applications/gpt4all\u001b[39;49m\u001b[38;5;124;43m\"\u001b[39;49m\u001b[43m,\u001b[49m\n\u001b[1;32m      8\u001b[0m \u001b[43m)\u001b[49m\n\u001b[1;32m     10\u001b[0m \u001b[38;5;66;03m# llm.client.api_url = 'https://api-inference.huggingface.co/models/mistralai/Mistral-7B-Instruct-v0.1'\u001b[39;00m\n\u001b[1;32m     12\u001b[0m chain \u001b[38;5;241m=\u001b[39m prompt \u001b[38;5;241m|\u001b[39m llm\n",
      "\u001b[0;31mTypeError\u001b[0m: 'module' object is not callable"
     ]
    }
   ],
   "source": [
    "from langchain.llms import gpt4all\n",
    "from langchain.prompts import PromptTemplate\n",
    "\n",
    "prompt = PromptTemplate.from_template(\"A {word} is a\") \n",
    "\n",
    "llm = gpt4all(\n",
    "    model=\"/Applications/gpt4all\",\n",
    ")\n",
    "\n",
    "# llm.client.api_url = 'https://api-inference.huggingface.co/models/mistralai/Mistral-7B-Instruct-v0.1'\n",
    "\n",
    "chain = prompt | llm\n",
    "\n",
    "chain.invoke({\n",
    "    \"word\" : \"tomato\"\n",
    "})"
   ]
  },
  {
   "cell_type": "code",
   "execution_count": 9,
   "metadata": {},
   "outputs": [],
   "source": [
    "import json\n",
    "from langchain.document_loaders import UnstructuredFileLoader\n",
    "from langchain.text_splitter import CharacterTextSplitter\n",
    "from langchain.chat_models import ChatOpenAI\n",
    "from langchain.prompts import ChatPromptTemplate\n",
    "from langchain.callbacks import StreamingStdOutCallbackHandler\n",
    "import streamlit as st\n",
    "from langchain.retrievers import WikipediaRetriever\n",
    "from langchain.schema import BaseOutputParser, output_parser\n",
    "\n",
    "class JsonOutputParser(BaseOutputParser):\n",
    "    def parse(self, text):\n",
    "        text = text.replace(\"```\", \"\").replace(\"json\", \"\")\n",
    "        return text\n",
    "\n",
    "\n",
    "\n",
    "output_parser = JsonOutputParser()\n",
    "\n",
    "function = {\n",
    "    \"name\": \"create_quiz\",\n",
    "    \"description\": \"function that takes a list of questions and answers and returns a quiz\",\n",
    "    \"parameters\": {\n",
    "        \"type\": \"object\",\n",
    "        \"properties\": {\n",
    "            \"questions\": {\n",
    "                \"type\": \"array\",\n",
    "                \"items\": {\n",
    "                    \"type\": \"object\",\n",
    "                    \"properties\": {\n",
    "                        \"question\": {\n",
    "                            \"type\": \"string\",\n",
    "                        },\n",
    "                        \"answers\": {\n",
    "                            \"type\": \"array\",\n",
    "                            \"items\": {\n",
    "                                \"type\": \"object\",\n",
    "                                \"properties\": {\n",
    "                                    \"answer\": {\n",
    "                                        \"type\": \"string\",\n",
    "                                    },\n",
    "                                    \"correct\": {\n",
    "                                        \"type\": \"boolean\",\n",
    "                                    },\n",
    "                                },\n",
    "                                \"required\": [\"answer\", \"correct\"],\n",
    "                            },\n",
    "                        },\n",
    "                    },\n",
    "                    \"required\": [\"question\", \"answers\"],\n",
    "                },\n",
    "            }\n",
    "        },\n",
    "        \"required\": [\"questions\"],\n",
    "    },\n",
    "}\n",
    "\n",
    "llm = ChatOpenAI(\n",
    "    temperature=0.1,\n",
    "    model=\"gpt-3.5-turbo-1106\",\n",
    "    streaming=True,\n",
    "    callbacks=[StreamingStdOutCallbackHandler()],\n",
    ").bind(\n",
    "    function_call={\"name\": \"create_quiz\"},\n",
    "    functions=[function],\n",
    ")\n",
    "\n",
    "def format_docs(docs):\n",
    "    return \"\\n\\n\".join(document.page_content for document in docs)\n",
    "\n",
    "questions_prompt = ChatPromptTemplate.from_messages(\n",
    "    [\n",
    "        (\n",
    "            \"system\",\n",
    "            \"\"\"\n",
    "    You are a helpful assistant that is role playing as a teacher.\n",
    "         \n",
    "    Based ONLY on the following context make 10 (TEN) questions to test the user's knowledge about the text.\n",
    "    \n",
    "    Each question should have 4 answers, three of them must be incorrect and one should be correct.\n",
    "         \n",
    "    Use (o) to signal the correct answer.\n",
    "         \n",
    "    Context: {context}\n",
    "\"\"\",\n",
    "        )\n",
    "    ]\n",
    ")\n",
    "\n",
    "questions_chain = {\"context\": format_docs} | questions_prompt | llm"
   ]
  },
  {
   "cell_type": "code",
   "execution_count": 10,
   "metadata": {},
   "outputs": [],
   "source": [
    "retriever = WikipediaRetriever(top_k_results=5)\n",
    "docs = retriever.get_relevant_documents(\"어린왕자\")"
   ]
  },
  {
   "cell_type": "code",
   "execution_count": 7,
   "metadata": {},
   "outputs": [
    {
     "data": {
      "text/plain": [
       "[Document(page_content='Seo Eun-kwang (Korean: 서은광; born November 22, 1990), also simply known as Eunkwang, is a South Korean singer, songwriter, entertainer and musical actor. He is the leader and main vocalist of the South Korean boy group BtoB.\\n\\n\\n== Biography ==\\nSeo was born on November 22, 1990, in Yongin, Gyeonggi in South Korea. He graduated from Dongshin University, majoring in practical music. He has one younger brother named Seo Eun-chong.\\n\\n\\n=== Military service ===\\nSeo reportedly began military duty by enlisting as an active duty soldier in the military band on August 21, 2018, at the ROK army\\'s 27th division, nicknamed the \\'We Will Win\\' unit in Gangwon Province\\'s Hwacheon County. In October 2018, he received first place out of the recruits in the overall results during basic training. On March 14, he was selected as ROK-SWC for receiving more than 90 points in sit-ups, push-ups, 3 km running, 10 km full combat gear marching and more.\\nHe was discharged from the army on April 7, 2020.\\n\\n\\n=== Philanthropy ===\\nIn 2017, Seo participated in the Donation Applause 337 Relay Campaign with another 200 entertainers and sports stars. The campaign is to share more than three donations and to send warmth to more than three friends and purchase more than 7,000 won. This resulting in Seo\\'s 418 fans donated to the Children\\'s Rehabilitation Hospital, a building facility who was fully funded by Seo to treat children with severe disabilities. On November 21, 2017, Seo and his fans donated ₩10 million to help children with childhood diabetes. Cube Entertainment revealed, \"Eunkwang\\'s fans wanted to do something nice for his birthday and started collecting donations for the Korea Diabetes Association, which BtoB works as ambassadors. When Eunkwang heard his fans were preparing to donate, he told the label that he wanted to participate as well and he participated in the donation and delivered the scholarship letter himself.\"\\nOn April 9, 2019, while serving the military, Seo donated ₩20 million to help the affected areas of the Sokcho Fire through Hope Bridge National Disaster Relief Association.\\nIn January 2020, Korea Heart Foundation reveals that Seo donated ₩20 million to help financially troubled heart patients at the end of 2019. In April 2020, BtoB\\'s fan club \\'Melody\\' donated women\\'s hygiene products to commemorate Seo\\'s discharge. The fan club delivered 3,201 sanitary napkins and wipes through World Human Bridge for pregnant women in vulnerable families who are suffering from COVID-19.\\nOn February 9, 2023, Seo donated 10 million won to help in the 2023 Turkey–Syria earthquake through the Children\\'s Foundation.\\n\\n\\n== Career ==\\n\\n\\n=== BtoB ===\\n\\nSeo debuted as the leader and main vocalist of Cube Entertainment\\'s boy group BtoB on March 21, 2012, with the promotional single \"Insane\". The group is currently active with ten mini albums and two studio album. Eunkwang also contributed as the lyricist in their fourth mini album, Beep Beep with the song \"Melody\" that is dedicated to their fans.\\nDuring his enlistment, BTOB promotions continued in his absence, with Minhyuk as the second leader and Sungjae as the third leader till his discharge.\\n\\n\\n=== Solo activities, acting and debut ===\\n\\nIn 2012, he released a digital single with singer U Sung-eun entitled \"Love Virus\". A music video was uploaded to BtoB\\'s official YouTube channel, featuring 4Minute\\'s Nam Jihyun and singer Roh Ji-hoon.\\nIn 2013, Seo made his musical debut as \"Albert\" in the musical, \"Monte Cristo\". He gained good responses after his performance. He also joined the cast for musical, \"Bachelor\\'s Vegetable Store\" as Chul Jin-yeok.\\nIn 2014, he became a fixed cast on tvN\\'s variety show SNL Korea 5. He also released the song \"Back In The Day\" as part of the \"Cube Voice Project Part 2\".\\nIn 2015, he sang the OST for the drama Mask with singer Miyu. It was entitled \"I Miss You.\" He also joined the studio panel in the MBC variety show, and virtual marriage program, We Got Married.\\nIn 2017–2018, Seo was active in th', metadata={'title': 'Seo Eun-kwang', 'summary': 'Seo Eun-kwang (Korean: 서은광; born November 22, 1990), also simply known as Eunkwang, is a South Korean singer, songwriter, entertainer and musical actor. He is the leader and main vocalist of the South Korean boy group BtoB.', 'source': 'https://en.wikipedia.org/wiki/Seo_Eun-kwang'}),\n",
       " Document(page_content='Kim Hyo-jung (Korean: 김효정; born December 11, 1990), better known by her stage name Hyolyn (효린), is a South Korean singer and songwriter. Currently, she is under the management of Bridʒ, a production company she founded herself. She is a former member of the South Korean girl group Sistar and their sub-unit Sistar19.\\n\\n\\n== Life and career ==\\n\\n\\n=== 1990–2009: Early life and career beginnings ===\\nKim Hyo-jung was born on December 11, 1990, in Incheon, South Korea. Her father is a retired Marine Corps officer. Born prematurely, Hyolyn\\'s infancy was complicated by a serious form of biliary atresia, which led to several surgeries, intussuseption and the eventual loss of her gall bladder. She explained on the TV program Strong Heart in 2011 that she grew up a sickly child but has since regained most of her health. Hyolyn has one younger sister, Kim Hye-jung.\\nHyolyn stated that she has loved singing and dancing since childhood and that no one was around to help her so she began picking up auditions on her own. She auditioned for JYP Entertainment two times before being accepted after placing first in the audition. She was set to debut in a project group with Secret\\'s Jieun, EXID\\'s Hani, and Bestie\\'s Uji. However, plans for their debut were cancelled. Hyolyn then left JYP and joined Starship Entertainment, auditioning with a cover of Christina Aguilera\\'s \"Hurt\". Starship began forming a new girl group in 2010, with Hyolyn as the leader. The group were praised for their fresh faces and vocal abilities.\\n\\n\\n=== 2010–2011: Debut with Sistar and Sistar19 ===\\n\\nOn June 3, 2010, Hyolyn made her debut as a member of Sistar on KBS\\' Music Bank with their debut single, \"Push Push\".\\nIn early 2011, Hyolyn and group member Bora formed the sub-group Sistar19. They released the successful single \"Ma Boy\" in 2011 and on October 17, 2011, Hyolyn released the single \"Ma Boy 2\", featuring Electroboyz. Their first EP Gone Not Around Any Longer, with a title track of the same name, was released in January 2013 and was met with success on several music charts.\\n\\n\\n=== 2012–2014: First acting role and solo debut with Love & Hate ===\\n\\nIn 2012, Hyolyn starred in the KBS drama Dream High Season 2 as Nana, a famous idol from the fictional girl group Hershe. She teamed up with Ailee and T-ara\\'s Jiyeon for the song \"Superstar\" for the soundtrack.\\nIn August 2013, Hyolyn sang an OST for the SBS\\' drama, Master\\'s Sun, titled \"You Make Me Go Crazy\". On November 22, she shared the stage with Stevie Wonder for a special performance of \"I Just Called to Say I Love You\" at the 2013 Mnet Asian Music Awards, one of South Korea\\'s biggest music award shows. Hyolyn made her solo debut on November 26 with the album Love & Hate. The album contained double title tracks, \"Lonely\" and \"One Way Love\", featuring Korean rappers Mad Clown, Block B\\'s Zico, Dok2, and Geeks\\' Lil Boi, and some tracks produced by Brave Brothers and Kim Do-hoon. Both of the album\\'s singles saw success, with \"One Way Love\" winning first place on several music shows, placing number one on Gaon\\'s Weekly Digital Chart and number one on Billboard\\'s K-Pop Hot 100, with \"Lonely\" falling at number four and number three respectively. On December 31, the music video for the Korean version of \"Let It Go\" for Disney\\'s animated film Frozen, sung by Hyolyn, was revealed.\\nIn January 2014, Hyolyn released an OST for the drama My Love from the Star titled \"Goodbye\". On March 28, Starship Entertainment announced on their Twitter account that Hyolyn would feature in Mad Clown\\'s comeback track, \"Without You\", released on April 3. She also participated in rapper MC Mong\\'s comeback to the Korean scene after five years with the album Miss Me or Diss Me, released on November 3. On November 20, she collaborated with singer-songwriter and fellow label mate, Jooyoung, on a track titled \"Erase (지워)\" featuring Iron, which peaked at number nine on the Gaon Weekly chart. Hyolyn was the first idol group singer to participate in the Chuseok specia', metadata={'title': 'Hyolyn', 'summary': 'Kim Hyo-jung (Korean: 김효정; born December 11, 1990), better known by her stage name Hyolyn (효린), is a South Korean singer and songwriter. Currently, she is under the management of Bridʒ, a production company she founded herself. She is a former member of the South Korean girl group Sistar and their sub-unit Sistar19.\\n\\n', 'source': 'https://en.wikipedia.org/wiki/Hyolyn'}),\n",
       " Document(page_content=\"Pale Moon (Korean: 종이달) is a 2023 South Korean television series starring Kim Seo-hyung, Yoo Sun, Seo Young-hee, Lee Si-woo, Gong Jung-hwan, Lee Chun-hee, and Yoon Hee-seok. It is based on a novel of the same name by Mitsuyo Kakuta, which was previously made into a movie and TV series in Japan. The series is an original drama of Genie TV, and is available for streaming on its platform, and on TVING. It also aired on ENA from April 10 to May 9, 2023, every Monday and Tuesday at 22:00 (KST).\\nThe first episode of Pale Moon was screened at the Rendez-vous (non-competition section) of the 2023 Cannes International Series Festival on April 19, 2023.\\n\\n\\n== Synopsis ==\\nThe series follows the story of Yoo I-hwa (Kim Seo-hyung), a bored housewife with an indifferent and ambitious husband, who lives a comfortable but somewhat empty life. She then gets a job as a contract employee at a savings bank and gradually regains her confidence. However, her normal daily life becomes irreversibly twisted when she begins to embezzle the VIP customers' money.\\n\\n\\n== Cast ==\\n\\n\\n=== Main ===\\nKim Seo-hyung as Yoo I-hwa: a woman in search of true happiness\\nYoo Sun as Ryu Ga-eul: I-hwa's friend who is the general manager of a beauty company\\nSeo Young-hee as Kang Seon-young: I-hwa's friend who is a full-time housewife\\nLee Si-woo as Yoon Min-jae: a film major student\\nGong Jung-hwan as Choi Gi-hyeon: I-hwa's husband\\nLee Chun-hee as Seong Si-hun: Ga-eul's ex-husband who is a dermatologist\\nYoon Hee-seok as Je-guk: Seon-young's husband and Gi-hyeon's colleague\\n\\n\\n=== Supporting ===\\nYoo Ui-tae as Geum Seok-jin: Ga-eul's colleague\\nByun Seo-yoon as Lim Ga-deun: Min-jae's close college classmate\\nKim Jae-in as Jin Young-seo: an employee at a savings bank\\nYoo Chae-hee as Seong Tae-mi: Ga-eul and Si-hun's daughter\\nYoon Bo-ra as Lee Ru-ri: I-hwa's colleague who is a bank teller\\nYoon A-jung as So Mi-kyung: the head of a cosmetics brand\\nLee Ga-ryeong as Goo Se-ju: a famous social media influencer and YouTuber\\nLee Chae-eun as Na Min-su\\nNam Woo-joo as Ru-ri's boyfriend\\nLee Ga-eun as Yoon-so: a top star actress\\nJang Hang-seon as Park Byung-sik\\nByun Jung-hee as Oh Sook-ja\\n\\n\\n=== Special appearance ===\\nKim Young-hoon as Tae-min: I-hwa's VIP customer\\n\\n\\n== Viewership ==\\n\\n\\n== Notes ==\\n\\n\\n== References ==\\n\\n\\n== External links ==\\nOfficial website (in Korean)\\nProduction website at Big Ocean ENM (in Korean)\\nPale Moon at IMDb\\nPale Moon at HanCinema\", metadata={'title': 'Pale Moon (TV series)', 'summary': 'Pale Moon (Korean: 종이달) is a 2023 South Korean television series starring Kim Seo-hyung, Yoo Sun, Seo Young-hee, Lee Si-woo, Gong Jung-hwan, Lee Chun-hee, and Yoon Hee-seok. It is based on a novel of the same name by Mitsuyo Kakuta, which was previously made into a movie and TV series in Japan. The series is an original drama of Genie TV, and is available for streaming on its platform, and on TVING. It also aired on ENA from April 10 to May 9, 2023, every Monday and Tuesday at 22:00 (KST).\\nThe first episode of Pale Moon was screened at the Rendez-vous (non-competition section) of the 2023 Cannes International Series Festival on April 19, 2023.', 'source': 'https://en.wikipedia.org/wiki/Pale_Moon_(TV_series)'}),\n",
       " Document(page_content='Park Bo-gum (Korean: 박보검; born June 16, 1993) is a South Korean actor. He gained recognition for his diverse range of roles in film and television, notably, a psychopathic lawyer in Hello Monster (2015), a genius Go player in Reply 1988 (2015–2016), a Joseon crown prince in Love in the Moonlight (2016), a free-spirited man who falls for an older woman in Encounter (2018), and a model who overcomes various hardships to become a successful actor in Record of Youth (2020).\\nPark was the youngest artist to be named Gallup Korea\\'s Television Actor of the Year. He was also the first actor to ever top the Forbes Korea Power Celebrity list.\\n\\n\\n== Early life and education ==\\nBorn in Mok-dong, Yangcheon-gu, Seoul, South Korea on June 16, 1993, Park is the youngest of three siblings. \"Bo-gum\" (寶劍) means \\'precious sword\\'. His mother died when he was in fourth grade.  He started learning to play the piano when he was in kindergarten and was a pianist and choir member at church. He was also on the varsity swimming team of Seoul Mokdong Middle School.\\nDuring Park\\'s sophomore year of high school he sent a video of himself singing and playing the piano to prominent talent management agencies which led to several offers. Park, who initially wanted to be a singer-songwriter, later changed his career path after a suggestion that he would do well acting. He graduated from Shinmok High School in 2012, and enrolled at Myongji University as a Musical Theater undergraduate in March 2014. Despite his acting career, he maintained an active collegiate life and represented his university\\'s cultural overseas exchange program in Europe. Park has also directed a one-act play based on Anton Chekov\\'s works, and served as music director in his graduating class\\'s production of Hairspray. He received his baccalaureate in February 2018.\\n\\n\\n== Career ==\\n\\n\\n=== 2011–2013: Beginnings ===\\nPark debuted as an actor under Sidus HQ, playing a supporting role in the thriller film Blind (2011). He then joined Blossom Entertainment and featured in the action-comedy film Runway Cop (2012), one-off KBS drama special Still Picture (2012) and the period drama Bridal Mask (2012). In 2013, he landed his first major role in the weekend drama Wonderful Mama playing the playboy son of Bae Jong-ok\\'s character.\\n\\n\\n=== 2014–2015: Rising popularity and breakthrough ===\\nIn 2014, Park played the teenage version of Lee Seo-jin\\'s character in the melodrama Wonderful Days and played a prodigy cellist in the KBS2\\'S Naeil\\'s Cantabile, an adaptation of the Japanese manga Nodame Cantabile. The roles earned Park Best New Actor nominations in both the KBS Drama Awards and APAN Star Awards.\\nHe next featured in box-office hits A Hard Day (2014) which also screened at Cannes Film Festival and The Admiral: Roaring Currents (2014) which became the highest grossing Korean film at the time.\\n\\nIn May 2015, Park joined Music Bank as a co-host alongside Red Velvet\\'s Irene. They both gained attention for their chemistry as well as singing and hosting skills. The press called them one of the best partnerships in the show\\'s history, and Park was awarded the Best Newcomer Award at the KBS Entertainment Awards.\\nA departure from his previous roles and public image, Park gained rave reviews from audience and critics with his scene-stealing role in crime drama Hello Monster (2015). The portrayal won him the Popularity and Best Supporting Actor awards at the year-end KBS Drama Awards. The same year, he featured in Coin Locker Girl which screened at Cannes Film Festival. The role earned him a nomination for Best New Actor in Film at the Baeksang Arts Awards and won him a Rising Star Award at the 11th MaxMovie Awards.\\nHe then starred as one of the leads in the third installment of the Reply series where he played the genius Go-player Choi Taek in Reply 1988 (2015). The show was a hit with audience ratings peaking at 18.8%  making it the highest rated Korean drama in cable television history that year, and earned Park the nic', metadata={'title': 'Park Bo-gum', 'summary': \"Park Bo-gum (Korean: 박보검; born June 16, 1993) is a South Korean actor. He gained recognition for his diverse range of roles in film and television, notably, a psychopathic lawyer in Hello Monster (2015), a genius Go player in Reply 1988 (2015–2016), a Joseon crown prince in Love in the Moonlight (2016), a free-spirited man who falls for an older woman in Encounter (2018), and a model who overcomes various hardships to become a successful actor in Record of Youth (2020).\\nPark was the youngest artist to be named Gallup Korea's Television Actor of the Year. He was also the first actor to ever top the Forbes Korea Power Celebrity list.\", 'source': 'https://en.wikipedia.org/wiki/Park_Bo-gum'}),\n",
       " Document(page_content='The Little Prince (Korean: 어린왕자; RR: Eorin Wangja) is the solo debut extended play (EP) by South Korean singer and actor Kim Ryeowook, a member from boy group Super Junior. It was released on January 28, 2016, by Label SJ, S.M. Entertainment and distributed by KT Music. The EP featured six tracks in total, including the lead single, \"The Little Prince\".\\n\\n\\n== Background ==\\nThe release of The Little Prince was not only anticipated as Ryeowook\\'s first official solo album since his debut 11 years ago but also because it was the first release under Super Junior\\'s own label \"Label SJ\", established by SM Entertainment in 2015 during the group\\'s 10th anniversary.\\n\\n\\n== Production and composition ==\\nThe title track bearing the same name as the album was a ballad inspired by French author Antoine de Saint-Exupéry\\'s novel \"The Little Prince\". The title track \"The Little Prince\" was a ballad song and a conversation between a man in pain from love and The Little Prince.\\nHis album consists of songs that are very different in flavor. The lyrics for \"POOM\" was written by Ryeowook, and depicts the words that a son wants to tell his mother but doesn\\'t know where to begin. \"Foxy Girl\" is a light mid-tempo dance song, and features rapper DinDin. Ballad song \"Like a Star\" help to bring out the clear vocals of Ryeowook, with orchestra and piano music. The album also includes a retro song \"Hello\" and the song \"People you may know\" which tells of one\\'s feelings after seeing the photos of someone you have just broke up with appear on the social media recommendations.\\n\\n\\n== Promotion ==\\n\\n\\n=== Release ===\\nOn 19 January 2016, the first two teasers were uploaded via SMTOWN. The Little Prince was officially available on 28 January through online and regular stores.\\n\\n\\n=== Live Performance ===\\nRyeowook hold his commemorative showcase for his mini-album release on the 25 January at 4pm. During the event, he presented the first stages of the songs from The Little Prince as well as the episodes related to the album. He also hold his first broadcast stage via M Countdown on the day of release.\\n\\n\\n=== Solo Concert ===\\nIn addition to Ryeowook\\'s solo promotions and album release, he held his first solo concert through SMTOWN\\'s The Agit series called \"Ever Lasting Star - RyeoWook\" from February 19 until the 21st for three days at the SMTOWN\\'s Coex Artium in Samseong-dong, Seoul. Due to popular demand, an additional three concerts were held from March 11 through the 13th.\\n\\n\\n== Track listing ==\\n\\n\\n== Release history ==\\n\\n\\n== Chart performance ==\\n\\n\\n=== Album charts ===\\n\\n\\n=== Single charts ===\\nA Little Prince\\n\\n\\n=== Other charted songs ===\\n\\n\\n== References ==\\n\\n\\n== External links ==\\nRyeowook\\'s official website', metadata={'title': 'The Little Prince (EP)', 'summary': 'The Little Prince (Korean: 어린왕자; RR: Eorin Wangja) is the solo debut extended play (EP) by South Korean singer and actor Kim Ryeowook, a member from boy group Super Junior. It was released on January 28, 2016, by Label SJ, S.M. Entertainment and distributed by KT Music. The EP featured six tracks in total, including the lead single, \"The Little Prince\".', 'source': 'https://en.wikipedia.org/wiki/The_Little_Prince_(EP)'})]"
      ]
     },
     "execution_count": 7,
     "metadata": {},
     "output_type": "execute_result"
    }
   ],
   "source": [
    "docs"
   ]
  },
  {
   "cell_type": "code",
   "execution_count": 11,
   "metadata": {},
   "outputs": [
    {
     "data": {
      "text/plain": [
       "''"
      ]
     },
     "execution_count": 11,
     "metadata": {},
     "output_type": "execute_result"
    }
   ],
   "source": [
    "chain = questions_chain | output_parser\n",
    "response = chain.invoke(docs)\n",
    "response"
   ]
  },
  {
   "cell_type": "code",
   "execution_count": null,
   "metadata": {},
   "outputs": [],
   "source": [
    "import json\n",
    "from langchain.document_loaders import UnstructuredFileLoader\n",
    "from langchain.text_splitter import CharacterTextSplitter\n",
    "from langchain.chat_models import ChatOpenAI\n",
    "from langchain.prompts import ChatPromptTemplate\n",
    "from langchain.callbacks import StreamingStdOutCallbackHandler\n",
    "import streamlit as st\n",
    "from langchain.retrievers import WikipediaRetriever\n",
    "from langchain.schema import BaseOutputParser, output_parser"
   ]
  },
  {
   "cell_type": "code",
   "execution_count": null,
   "metadata": {},
   "outputs": [],
   "source": [
    "function = {\n",
    "    \"name\": \"create_quiz\",\n",
    "    \"description\": \"function that takes a list of questions and answers and returns a quiz\",\n",
    "    \"parameters\": {\n",
    "        \"type\": \"object\",\n",
    "        \"properties\": {\n",
    "            \"questions\": {\n",
    "                \"type\": \"array\",\n",
    "                \"items\": {\n",
    "                    \"type\": \"object\",\n",
    "                    \"properties\": {\n",
    "                        \"question\": {\n",
    "                            \"type\": \"string\",\n",
    "                        },\n",
    "                        \"answers\": {\n",
    "                            \"type\": \"array\",\n",
    "                            \"items\": {\n",
    "                                \"type\": \"object\",\n",
    "                                \"properties\": {\n",
    "                                    \"answer\": {\n",
    "                                        \"type\": \"string\",\n",
    "                                    },\n",
    "                                    \"correct\": {\n",
    "                                        \"type\": \"boolean\",\n",
    "                                    },\n",
    "                                },\n",
    "                                \"required\": [\"answer\", \"correct\"],\n",
    "                            },\n",
    "                        },\n",
    "                    },\n",
    "                    \"required\": [\"question\", \"answers\"],\n",
    "                },\n",
    "            }\n",
    "        },\n",
    "        \"required\": [\"questions\"],\n",
    "    },\n",
    "}\n",
    "\n",
    "llm = ChatOpenAI(\n",
    "    temperature=0.1,\n",
    "    model=\"gpt-3.5-turbo-1106\",\n",
    "    streaming=True,\n",
    "    callbacks=[StreamingStdOutCallbackHandler()],\n",
    ").bind(\n",
    "    function_call={\n",
    "        \"name\": \"create_quiz\",\n",
    "    },\n",
    "    functions=[\n",
    "        function,\n",
    "    ],\n",
    ")\n",
    "\n",
    "def wiki_search(term):\n",
    "    retriever = WikipediaRetriever(top_k_results=5)\n",
    "    docs = retriever.get_relevant_documents(term)\n",
    "    return docs\n",
    "\n",
    "questions_prompt = ChatPromptTemplate.from_messages(\n",
    "    [\n",
    "        (\n",
    "            \"system\",\n",
    "            \"\"\"\n",
    "    You are a helpful assistant that is role playing as a teacher.\n",
    "         \n",
    "    Based ONLY on the following context make 10 (TEN) questions to test the user's knowledge about the text.\n",
    "    \n",
    "    Each question should have 4 answers, three of them must be incorrect and one should be correct.\n",
    "         \n",
    "    Use (o) to signal the correct answer.\n",
    "         \n",
    "    Context: {context}\n",
    "\"\"\",\n",
    "        )\n",
    "    ]\n",
    ")\n",
    "\n",
    "chain = {\"context\": wiki_search} | "
   ]
  },
  {
   "cell_type": "code",
   "execution_count": 3,
   "metadata": {},
   "outputs": [
    {
     "ename": "SyntaxError",
     "evalue": "invalid syntax (960317023.py, line 1)",
     "output_type": "error",
     "traceback": [
      "\u001b[0;36m  Cell \u001b[0;32mIn[3], line 1\u001b[0;36m\u001b[0m\n\u001b[0;31m    content='' additional_kwargs={'function_call': {'name': 'create_quiz', 'arguments': '{\"questions\":[{\"question\":\"Where did the apple tree originate?\",\"answers\":[{\"answer\":\"Central Asia\",\"correct\":true},{\"answer\":\"North America\",\"correct\":false},{\"answer\":\"Europe\",\"correct\":false},{\"answer\":\"South America\",\"correct\":false}]},{\"question\":\"How many cultivars of apples are there?\",\"answers\":[{\"answer\":\"Over 5,000\",\"correct\":false},{\"answer\":\"Over 10,000\",\"correct\":false},{\"answer\":\"Over 7,500\",\"correct\":true},{\"answer\":\"Over 3,000\",\"correct\":false}]},{\"question\":\"What is the word \\'apple\\' descended from?\",\"answers\":[{\"answer\":\"Proto-Indo-European *h₂ébōl\",\"correct\":true},{\"answer\":\"Old English ancestor æppel\",\"correct\":false},{\"answer\":\"Proto-Germanic noun *aplaz\",\"correct\":false},{\"answer\":\"Middle English expression appel of paradis\",\"correct\":false}]},{\"question\":\"What is the shape of apple tree leaves?\",\"answers\":[{\"answer\":\"Simple ovals\",\"correct\":false},{\"answer\":\"Egg shaped\",\"correct\":false},{\"answer\":\"Glabrescent\",\"correct\":false},{\"answer\":\"Convolute\",\"correct\":true}]},{\"question\":\"What is the fruit of the apple tree called?\",\"answers\":[{\"answer\":\"Pome\",\"correct\":true},{\"answer\":\"Berry\",\"correct\":false},{\"answer\":\"Drupes\",\"correct\":false},{\"answer\":\"Aggregate fruit\",\"correct\":false}]},{\"question\":\"Where is Apple Inc. headquartered?\",\"answers\":[{\"answer\":\"New York City\",\"correct\":false},{\"answer\":\"Los Angeles\",\"correct\":false},{\"answer\":\"Cupertino, California\",\"correct\":true},{\"answer\":\"Seattle\",\"correct\":false}]},{\"question\":\"Who founded Apple Inc.?\",\"answers\":[{\"answer\":\"Bill Gates\",\"correct\":false},{\"answer\":\"Steve Jobs, Steve Wozniak, and Ronald Wayne\",\"correct\":true},{\"answer\":\"Mark Zuckerberg\",\"correct\":false},{\"answer\":\"Elon Musk\",\"correct\":false}]},{\"question\":\"What is the name of the party game originally published by Out of the Box Publishing Inc.?\",\"answers\":[{\"answer\":\"Cards Against Humanity\",\"correct\":false},{\"answer\":\"Dixit\",\"correct\":false},{\"answer\":\"Apples to Apples\",\"correct\":true},{\"answer\":\"Monopoly\",\"correct\":false}]},{\"question\":\"What is the basis of Mac, iPhone, iPad, and Apple Watch processors?\",\"answers\":[{\"answer\":\"Intel processors\",\"correct\":false},{\"answer\":\"ARM architecture\",\"correct\":true},{\"answer\":\"AMD processors\",\"correct\":false},{\"answer\":\"NVIDIA processors\",\"correct\":false}]},{\"question\":\"What is the name of the family of SoCs used in the iPhone and certain iPad models?\",\"answers\":[{\"answer\":\"B series\",\"correct\":false},{\"answer\":\"C series\",\"correct\":false},{\"answer\":\"A series\",\"correct\":true},{\"answer\":\"D series\",\"correct\":false}]}]}'}}\u001b[0m\n\u001b[0m               ^\u001b[0m\n\u001b[0;31mSyntaxError\u001b[0m\u001b[0;31m:\u001b[0m invalid syntax\n"
     ]
    }
   ],
   "source": [
    "content='' additional_kwargs={'function_call': {'name': 'create_quiz', 'arguments': '{\"questions\":[{\"question\":\"Where did the apple tree originate?\",\"answers\":[{\"answer\":\"Central Asia\",\"correct\":true},{\"answer\":\"North America\",\"correct\":false},{\"answer\":\"Europe\",\"correct\":false},{\"answer\":\"South America\",\"correct\":false}]},{\"question\":\"How many cultivars of apples are there?\",\"answers\":[{\"answer\":\"Over 5,000\",\"correct\":false},{\"answer\":\"Over 10,000\",\"correct\":false},{\"answer\":\"Over 7,500\",\"correct\":true},{\"answer\":\"Over 3,000\",\"correct\":false}]},{\"question\":\"What is the word \\'apple\\' descended from?\",\"answers\":[{\"answer\":\"Proto-Indo-European *h₂ébōl\",\"correct\":true},{\"answer\":\"Old English ancestor æppel\",\"correct\":false},{\"answer\":\"Proto-Germanic noun *aplaz\",\"correct\":false},{\"answer\":\"Middle English expression appel of paradis\",\"correct\":false}]},{\"question\":\"What is the shape of apple tree leaves?\",\"answers\":[{\"answer\":\"Simple ovals\",\"correct\":false},{\"answer\":\"Egg shaped\",\"correct\":false},{\"answer\":\"Glabrescent\",\"correct\":false},{\"answer\":\"Convolute\",\"correct\":true}]},{\"question\":\"What is the fruit of the apple tree called?\",\"answers\":[{\"answer\":\"Pome\",\"correct\":true},{\"answer\":\"Berry\",\"correct\":false},{\"answer\":\"Drupes\",\"correct\":false},{\"answer\":\"Aggregate fruit\",\"correct\":false}]},{\"question\":\"Where is Apple Inc. headquartered?\",\"answers\":[{\"answer\":\"New York City\",\"correct\":false},{\"answer\":\"Los Angeles\",\"correct\":false},{\"answer\":\"Cupertino, California\",\"correct\":true},{\"answer\":\"Seattle\",\"correct\":false}]},{\"question\":\"Who founded Apple Inc.?\",\"answers\":[{\"answer\":\"Bill Gates\",\"correct\":false},{\"answer\":\"Steve Jobs, Steve Wozniak, and Ronald Wayne\",\"correct\":true},{\"answer\":\"Mark Zuckerberg\",\"correct\":false},{\"answer\":\"Elon Musk\",\"correct\":false}]},{\"question\":\"What is the name of the party game originally published by Out of the Box Publishing Inc.?\",\"answers\":[{\"answer\":\"Cards Against Humanity\",\"correct\":false},{\"answer\":\"Dixit\",\"correct\":false},{\"answer\":\"Apples to Apples\",\"correct\":true},{\"answer\":\"Monopoly\",\"correct\":false}]},{\"question\":\"What is the basis of Mac, iPhone, iPad, and Apple Watch processors?\",\"answers\":[{\"answer\":\"Intel processors\",\"correct\":false},{\"answer\":\"ARM architecture\",\"correct\":true},{\"answer\":\"AMD processors\",\"correct\":false},{\"answer\":\"NVIDIA processors\",\"correct\":false}]},{\"question\":\"What is the name of the family of SoCs used in the iPhone and certain iPad models?\",\"answers\":[{\"answer\":\"B series\",\"correct\":false},{\"answer\":\"C series\",\"correct\":false},{\"answer\":\"A series\",\"correct\":true},{\"answer\":\"D series\",\"correct\":false}]}]}'}}"
   ]
  }
 ],
 "metadata": {
  "kernelspec": {
   "display_name": "env",
   "language": "python",
   "name": "python3"
  },
  "language_info": {
   "codemirror_mode": {
    "name": "ipython",
    "version": 3
   },
   "file_extension": ".py",
   "mimetype": "text/x-python",
   "name": "python",
   "nbconvert_exporter": "python",
   "pygments_lexer": "ipython3",
   "version": "3.11.9"
  }
 },
 "nbformat": 4,
 "nbformat_minor": 2
}
