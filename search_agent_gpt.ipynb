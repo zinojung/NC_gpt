{
 "cells": [
  {
   "cell_type": "code",
   "execution_count": 6,
   "metadata": {},
   "outputs": [
    {
     "name": "stdout",
     "output_type": "stream",
     "text": [
      "\n",
      "\n",
      "\u001b[1m> Entering new AgentExecutor chain...\u001b[0m\n",
      "\u001b[32;1m\u001b[1;3m\n",
      "Invoking: `KeywordSearchToolDuck` with `{'query': 'XZ Utils backdoor'}`\n",
      "\n",
      "\n",
      "\u001b[0m\u001b[36;1m\u001b[1;3mA malicious update to xz Utils, a widely used Linux compression tool, was caught before it could infect millions of devices. The backdoor manipulated SSH connections and could have allowed code execution by a predetermined key. On March 28, 2024 a backdoor was identified in XZ Utils. This vulnerability, CVE-2024-3094 with a CVSS score of 10 is a result of a software supply chain compromise impacting versions 5.6.0 and 5.6.1 of XZ Utils. The U.S. Cybersecurity and Infrastructure Security Agency (CISA) has recommended organizations to downgrade to a previous non-compromised XZ Utils version. Learn about the XZ Utils backdoor, a sophisticated RCE vulnerability that affects many Linux distributions. Find out how to identify and downgrade the affected packages, and what other steps you can take to protect your systems. That operation matches the style of the XZ Utils backdoor far more than the cruder supply chain attacks of APT41 or Lazarus, by comparison. \"It could very well be someone else,\" says Aitel. A malicious code inserted by a developer into a Linux compression format exposed millions of systems to a remote log-in compromise. Learn how a Microsoft worker discovered the backdoor and prevented a massive cyber attack.\u001b[0m\u001b[32;1m\u001b[1;3mThe XZ Utils backdoor refers to a malicious update to xz Utils, a widely used Linux compression tool. The backdoor was identified before it could infect millions of devices and was found to manipulate SSH connections, potentially allowing code execution by a predetermined key. The vulnerability, identified as CVE-2024-3094 with a CVSS score of 10, resulted from a software supply chain compromise impacting versions 5.6.0 and 5.6.1 of XZ Utils. The U.S. Cybersecurity and Infrastructure Security Agency (CISA) has recommended organizations to downgrade to a previous non-compromised XZ Utils version. This sophisticated RCE (Remote Code Execution) vulnerability affects many Linux distributions, and steps have been recommended to identify and downgrade the affected packages to protect systems.\u001b[0m\n",
      "\n",
      "\u001b[1m> Finished chain.\u001b[0m\n"
     ]
    }
   ],
   "source": [
    "import os\n",
    "import requests\n",
    "from typing import Type\n",
    "from langchain.chat_models import ChatOpenAI\n",
    "from langchain.tools import BaseTool\n",
    "from pydantic import BaseModel, Field\n",
    "from langchain.agents import initialize_agent, AgentType\n",
    "from langchain.utilities import DuckDuckGoSearchAPIWrapper, WikipediaAPIWrapper\n",
    "\n",
    "llm = ChatOpenAI(temperature=0.1, model_name=\"gpt-3.5-turbo-1106\")\n",
    "\n",
    "\n",
    "class KeywordSearchToolArgsSchema(BaseModel):\n",
    "    query: str = Field(\n",
    "        description=\"The query you will search for.Example query: XZ Utils backdoor\"\n",
    "    )\n",
    "\n",
    "\n",
    "class KeywordSearchToolDuck(BaseTool):\n",
    "    name = \"KeywordSearchToolDuck\"\n",
    "    description = \"\"\"\n",
    "    Use this tool to find the information of the keyword.\n",
    "    It takes a query as an argument.\n",
    "    \n",
    "    \"\"\"\n",
    "    args_schema: Type[\n",
    "        KeywordSearchToolArgsSchema\n",
    "    ] = KeywordSearchToolArgsSchema\n",
    "\n",
    "    def _run(self, query):\n",
    "        ddg = DuckDuckGoSearchAPIWrapper()\n",
    "        return ddg.run(query)\n",
    "    \n",
    "class KeywordSearchToolWiki(BaseTool):\n",
    "    name = \"KeywordSearchToolWiki\"\n",
    "    description = \"\"\"\n",
    "    Use this tool to find the stock market symbol for a company.\n",
    "    It takes a query as an argument.\n",
    "    \n",
    "    \"\"\"\n",
    "    args_schema: Type[\n",
    "        KeywordSearchToolArgsSchema\n",
    "    ] = KeywordSearchToolArgsSchema\n",
    "\n",
    "    def _run(self, query):\n",
    "        wiki = WikipediaAPIWrapper()\n",
    "        return wiki.run(query)\n",
    "\n",
    "\n",
    "agent = initialize_agent(\n",
    "    llm=llm,\n",
    "    verbose=True,\n",
    "    agent=AgentType.OPENAI_FUNCTIONS,\n",
    "    handle_parsing_errors=True,\n",
    "    tools=[\n",
    "        KeywordSearchToolDuck(),\n",
    "        KeywordSearchToolWiki(),\n",
    "    ],\n",
    ")\n",
    "\n",
    "prompt = \"Research about the XZ backdoor\"\n",
    "\n",
    "result = agent.invoke(prompt)\n",
    "\n",
    "with open(\"result.txt\", \"w\", encoding=\"utf-8\") as file:\n",
    "    file.write(result[\"output\"])\n"
   ]
  }
 ],
 "metadata": {
  "kernelspec": {
   "display_name": "env",
   "language": "python",
   "name": "python3"
  },
  "language_info": {
   "codemirror_mode": {
    "name": "ipython",
    "version": 3
   },
   "file_extension": ".py",
   "mimetype": "text/x-python",
   "name": "python",
   "nbconvert_exporter": "python",
   "pygments_lexer": "ipython3",
   "version": "3.11.9"
  }
 },
 "nbformat": 4,
 "nbformat_minor": 2
}
